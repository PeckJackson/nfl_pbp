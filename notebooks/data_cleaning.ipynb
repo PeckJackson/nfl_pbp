{
 "cells": [
  {
   "cell_type": "code",
   "execution_count": 1,
   "metadata": {},
   "outputs": [],
   "source": [
    "import pandas as pd"
   ]
  },
  {
   "cell_type": "code",
   "execution_count": 8,
   "metadata": {},
   "outputs": [],
   "source": [
    "def clean_data(file):\n",
    "    file = '../data/raw/' + file\n",
    "    df = pd.read_csv(file,low_memory=False)\n",
    "\n",
    "    #Drop plays that have no posteam\n",
    "    df = df.loc[~df['posteam'].isnull()]\n",
    "    #drop qb kneels -> the epa is automatically zero\n",
    "    df = df.loc[df['qb_kneel']==0]\n",
    "    #drop extra point attempts\n",
    "    df = df.loc[df['extra_point_attempt'] == 0]\n",
    "    #drop two point attempt for now\n",
    "    df = df.loc[df['two_point_attempt'] == 0]\n",
    "    #only regular season games for now\n",
    "    df = df.loc[df['game_type']=='reg']\n",
    "    #drop plays with no down or time (mostly rows for end of quarters etc)\n",
    "    df.dropna(subset=['down'], inplace=True)\n",
    "    df.dropna(subset=['time'], inplace=True)\n",
    "    \n",
    "    return df\n",
    "\n",
    "#Run cleaning script on raw play by play data and output to interim data folder\n",
    "def run_cleaning(file):\n",
    "    \n",
    "    df = clean_data(file)\n",
    "    \n",
    "    df.to_csv('../data/interim/nfl_pbp_clean.csv')\n",
    "    \n",
    "    return"
   ]
  },
  {
   "cell_type": "code",
   "execution_count": 10,
   "metadata": {},
   "outputs": [],
   "source": [
    "file = 'nfl_pbp.csv'\n",
    "run_cleaning(file)"
   ]
  }
 ],
 "metadata": {
  "kernelspec": {
   "display_name": "Python 3",
   "language": "python",
   "name": "python3"
  },
  "language_info": {
   "codemirror_mode": {
    "name": "ipython",
    "version": 3
   },
   "file_extension": ".py",
   "mimetype": "text/x-python",
   "name": "python",
   "nbconvert_exporter": "python",
   "pygments_lexer": "ipython3",
   "version": "3.7.7"
  }
 },
 "nbformat": 4,
 "nbformat_minor": 4
}
