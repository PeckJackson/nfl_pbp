{
 "cells": [
  {
   "cell_type": "code",
   "execution_count": 1,
   "metadata": {},
   "outputs": [],
   "source": [
    "#Takes in the dataframe with next score data added and returns two dataframes. One includes on valid offensive plays the other kicks"
   ]
  },
  {
   "cell_type": "code",
   "execution_count": 2,
   "metadata": {},
   "outputs": [],
   "source": [
    "import pandas as pd"
   ]
  },
  {
   "cell_type": "code",
   "execution_count": 7,
   "metadata": {},
   "outputs": [],
   "source": [
    "def offensive_plays(file):\n",
    "    df = pd.read_csv('../data/interim/'+file,low_memory=False)\n",
    "    df_off_plays = df.loc[(df['play_type']=='pass') | (df['play_type']=='run')]\n",
    "    return df_off_plays\n",
    "\n",
    "def kicks(file):\n",
    "    df = pd.read_csv('../data/interim/'+file,low_memory=False)\n",
    "    df_kicks = df.loc[df['play_type'] == 'field_goal']\n",
    "    return df_kicks"
   ]
  },
  {
   "cell_type": "code",
   "execution_count": 8,
   "metadata": {},
   "outputs": [],
   "source": [
    "file = 'nfl_pbp_next_scores.csv'\n",
    "df_off = offensive_plays(file)"
   ]
  },
  {
   "cell_type": "code",
   "execution_count": 9,
   "metadata": {},
   "outputs": [],
   "source": [
    "df_off.to_csv('../data/interim/offensive_plays.csv')"
   ]
  },
  {
   "cell_type": "code",
   "execution_count": null,
   "metadata": {},
   "outputs": [],
   "source": []
  }
 ],
 "metadata": {
  "kernelspec": {
   "display_name": "Python 3",
   "language": "python",
   "name": "python3"
  },
  "language_info": {
   "codemirror_mode": {
    "name": "ipython",
    "version": 3
   },
   "file_extension": ".py",
   "mimetype": "text/x-python",
   "name": "python",
   "nbconvert_exporter": "python",
   "pygments_lexer": "ipython3",
   "version": "3.7.7"
  }
 },
 "nbformat": 4,
 "nbformat_minor": 4
}
